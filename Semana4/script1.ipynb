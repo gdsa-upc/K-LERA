{
 "cells": [
  {
   "cell_type": "code",
   "execution_count": 1,
   "metadata": {
    "collapsed": false
   },
   "outputs": [
    {
     "name": "stdout",
     "output_type": "stream",
     "text": [
      "Number of clusters: 3672\n",
      "Descriptor type: BRIEF\n",
      "Keypoint detector: BRIEF\n",
      "Resize dimension: 500\n",
      "Distance metric: euclidean\n",
      "Tiempo que ha tardado: 432.486623049\n",
      "(3,)\n"
     ]
    },
    {
     "ename": "ValueError",
     "evalue": "setting an array element with a sequence.",
     "output_type": "error",
     "traceback": [
      "\u001b[0;31m\u001b[0m",
      "\u001b[0;31mValueError\u001b[0mTraceback (most recent call last)",
      "\u001b[0;32m<ipython-input-1-a973f2d4e9bb>\u001b[0m in \u001b[0;36m<module>\u001b[0;34m()\u001b[0m\n\u001b[1;32m     36\u001b[0m \u001b[0;31m#usar MiniBatchKMeans, sale en la función\u001b[0m\u001b[0;34m\u001b[0m\u001b[0;34m\u001b[0m\u001b[0m\n\u001b[1;32m     37\u001b[0m \u001b[0mt\u001b[0m \u001b[0;34m=\u001b[0m \u001b[0mtime\u001b[0m\u001b[0;34m.\u001b[0m\u001b[0mtime\u001b[0m\u001b[0;34m(\u001b[0m\u001b[0;34m)\u001b[0m\u001b[0;34m\u001b[0m\u001b[0m\n\u001b[0;32m---> 38\u001b[0;31m \u001b[0mGF\u001b[0m\u001b[0;34m.\u001b[0m\u001b[0mtrain_codebook\u001b[0m\u001b[0;34m(\u001b[0m\u001b[0mget_params\u001b[0m\u001b[0;34m,\u001b[0m\u001b[0mX\u001b[0m\u001b[0;34m)\u001b[0m \u001b[0;31m#funcion de get_features.py\u001b[0m\u001b[0;34m\u001b[0m\u001b[0m\n\u001b[0m\u001b[1;32m     39\u001b[0m \u001b[0;31m#usamos los X descriptores de las imágenes de entrenamiento\u001b[0m\u001b[0;34m\u001b[0m\u001b[0;34m\u001b[0m\u001b[0m\n\u001b[1;32m     40\u001b[0m \u001b[0;34m\u001b[0m\u001b[0m\n",
      "\u001b[0;32m/Users/andrea/Desktop/gdsa/get_features.pyc\u001b[0m in \u001b[0;36mtrain_codebook\u001b[0;34m(params, X)\u001b[0m\n\u001b[1;32m    251\u001b[0m     \u001b[0;31m# Training the model with our descriptors\u001b[0m\u001b[0;34m\u001b[0m\u001b[0;34m\u001b[0m\u001b[0m\n\u001b[1;32m    252\u001b[0m \u001b[0;34m\u001b[0m\u001b[0m\n\u001b[0;32m--> 253\u001b[0;31m         \u001b[0mkm\u001b[0m\u001b[0;34m.\u001b[0m\u001b[0mfit\u001b[0m\u001b[0;34m(\u001b[0m\u001b[0mX\u001b[0m\u001b[0;34m)\u001b[0m\u001b[0;34m\u001b[0m\u001b[0m\n\u001b[0m\u001b[1;32m    254\u001b[0m         \u001b[0;31m# Save to disk\u001b[0m\u001b[0;34m\u001b[0m\u001b[0;34m\u001b[0m\u001b[0m\n\u001b[1;32m    255\u001b[0m         pickle.dump(km,open(os.path.join(params['root'],params['root_save'],\n",
      "\u001b[0;32m/Users/andrea/Library/Enthought/Canopy/edm/envs/User/lib/python2.7/site-packages/sklearn/cluster/k_means_.pyc\u001b[0m in \u001b[0;36mfit\u001b[0;34m(self, X, y)\u001b[0m\n\u001b[1;32m   1315\u001b[0m         \u001b[0mrandom_state\u001b[0m \u001b[0;34m=\u001b[0m \u001b[0mcheck_random_state\u001b[0m\u001b[0;34m(\u001b[0m\u001b[0mself\u001b[0m\u001b[0;34m.\u001b[0m\u001b[0mrandom_state\u001b[0m\u001b[0;34m)\u001b[0m\u001b[0;34m\u001b[0m\u001b[0m\n\u001b[1;32m   1316\u001b[0m         X = check_array(X, accept_sparse=\"csr\", order='C',\n\u001b[0;32m-> 1317\u001b[0;31m                         dtype=[np.float64, np.float32])\n\u001b[0m\u001b[1;32m   1318\u001b[0m         \u001b[0mn_samples\u001b[0m\u001b[0;34m,\u001b[0m \u001b[0mn_features\u001b[0m \u001b[0;34m=\u001b[0m \u001b[0mX\u001b[0m\u001b[0;34m.\u001b[0m\u001b[0mshape\u001b[0m\u001b[0;34m\u001b[0m\u001b[0m\n\u001b[1;32m   1319\u001b[0m         \u001b[0;32mif\u001b[0m \u001b[0mn_samples\u001b[0m \u001b[0;34m<\u001b[0m \u001b[0mself\u001b[0m\u001b[0;34m.\u001b[0m\u001b[0mn_clusters\u001b[0m\u001b[0;34m:\u001b[0m\u001b[0;34m\u001b[0m\u001b[0m\n",
      "\u001b[0;32m/Users/andrea/Library/Enthought/Canopy/edm/envs/User/lib/python2.7/site-packages/sklearn/utils/validation.pyc\u001b[0m in \u001b[0;36mcheck_array\u001b[0;34m(array, accept_sparse, dtype, order, copy, force_all_finite, ensure_2d, allow_nd, ensure_min_samples, ensure_min_features, warn_on_dtype, estimator)\u001b[0m\n\u001b[1;32m    380\u001b[0m                                       force_all_finite)\n\u001b[1;32m    381\u001b[0m     \u001b[0;32melse\u001b[0m\u001b[0;34m:\u001b[0m\u001b[0;34m\u001b[0m\u001b[0m\n\u001b[0;32m--> 382\u001b[0;31m         \u001b[0marray\u001b[0m \u001b[0;34m=\u001b[0m \u001b[0mnp\u001b[0m\u001b[0;34m.\u001b[0m\u001b[0marray\u001b[0m\u001b[0;34m(\u001b[0m\u001b[0;34m[\u001b[0m\u001b[0marray\u001b[0m\u001b[0;34m]\u001b[0m\u001b[0;34m,\u001b[0m \u001b[0mdtype\u001b[0m\u001b[0;34m=\u001b[0m\u001b[0mdtype\u001b[0m\u001b[0;34m,\u001b[0m \u001b[0morder\u001b[0m\u001b[0;34m=\u001b[0m\u001b[0morder\u001b[0m\u001b[0;34m,\u001b[0m \u001b[0mcopy\u001b[0m\u001b[0;34m=\u001b[0m\u001b[0mcopy\u001b[0m\u001b[0;34m)\u001b[0m\u001b[0;34m\u001b[0m\u001b[0m\n\u001b[0m\u001b[1;32m    383\u001b[0m \u001b[0;34m\u001b[0m\u001b[0m\n\u001b[1;32m    384\u001b[0m         \u001b[0;32mif\u001b[0m \u001b[0mensure_2d\u001b[0m\u001b[0;34m:\u001b[0m\u001b[0;34m\u001b[0m\u001b[0m\n",
      "\u001b[0;31mValueError\u001b[0m: setting an array element with a sequence."
     ]
    }
   ],
   "source": [
    "# -*- coding: utf-8 -*-\n",
    "import numpy as np\n",
    "import time\n",
    "import sys\n",
    "sys.path.insert(0,'/Users/andrea/Desktop/gdsa')\n",
    "from get_params import get_params \n",
    "from rank import rank\n",
    "#añadir desde src funciona get_params de params.py\n",
    "\n",
    "get_params = get_params() \n",
    "#guardamos en params todos los parametros\n",
    "print \"Number of clusters:\", get_params['descriptor_size']\n",
    "print \"Descriptor type:\",get_params['descriptor_type']\n",
    "print \"Keypoint detector:\", get_params['keypoint_type']\n",
    "print \"Resize dimension:\", get_params['max_size']\n",
    "print \"Distance metric:\", get_params['distance_type']\n",
    "\n",
    "\n",
    "#descriptors=get_local_features() function semana pasada\n",
    "\n",
    "import get_features as GF \n",
    "#añadir desde src\n",
    "\n",
    "get_params['split'] = 'train' \n",
    "#solo imagenes de entrenamiento\n",
    "\n",
    "t = time.time()\n",
    "#t en segundos\n",
    "X= GF.stack_features(get_params)\n",
    "print 'Tiempo que ha tardado:', time.time() - t\n",
    "print np.shape(X) \n",
    "#sacamos el num de descriptores y el num de imagenes ue hemos mirado (tupla de valores)\n",
    "\n",
    "#codebook=train_codebook(,descriptors)\n",
    "\n",
    "#usar MiniBatchKMeans, sale en la función\n",
    "t = time.time()\n",
    "GF.train_codebook(get_params,X) #funcion de get_features.py\n",
    "#usamos los X descriptores de las imágenes de entrenamiento\n",
    "\n",
    "print 'Tiempo que ha tardado:', time.time() - t\n",
    "\n",
    "\n",
    "#gwt_assignments y build_bow\n",
    "\n",
    "#sacamos las X a las imágenes de entrenamiento y validación\n",
    "t = time.time()\n",
    "GF.get_features(get_params)\n",
    "\n",
    "print 'Tiempo que ha tardado:', time.time() - t\n",
    "\n",
    "params['split'] = 'val' #imagenes de validacion\n",
    "\n",
    "t = time.time()\n",
    "# Run again\n",
    "GF.get_features(get_params)\n",
    "\n",
    "print 'Tiempo que ha tardado:', time.time() - t\n",
    "\n",
    "t = time.time()\n",
    "rank(get_params)\n",
    "\n",
    "print 'Done. Time elapsed:', time.time() - t"
   ]
  },
  {
   "cell_type": "code",
   "execution_count": null,
   "metadata": {
    "collapsed": true
   },
   "outputs": [],
   "source": []
  }
 ],
 "metadata": {
  "kernelspec": {
   "display_name": "Python 2",
   "language": "python",
   "name": "python2"
  },
  "language_info": {
   "codemirror_mode": {
    "name": "ipython",
    "version": 2
   },
   "file_extension": ".py",
   "mimetype": "text/x-python",
   "name": "python",
   "nbconvert_exporter": "python",
   "pygments_lexer": "ipython2",
   "version": "2.7.13"
  }
 },
 "nbformat": 4,
 "nbformat_minor": 2
}
